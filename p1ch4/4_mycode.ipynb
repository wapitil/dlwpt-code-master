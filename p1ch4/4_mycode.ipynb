{
 "cells": [
  {
   "cell_type": "markdown",
   "metadata": {},
   "source": [
    "#读取时间序列"
   ]
  },
  {
   "cell_type": "code",
   "execution_count": 4,
   "metadata": {},
   "outputs": [],
   "source": [
    "import torch\n",
    "import numpy as np\n",
    "torch.set_printoptions(edgeitems=2, threshold=50,linewidth=75)"
   ]
  },
  {
   "cell_type": "code",
   "execution_count": 5,
   "metadata": {},
   "outputs": [
    {
     "data": {
      "text/plain": [
       "['instant',\n",
       " 'dteday',\n",
       " 'season',\n",
       " 'yr',\n",
       " 'mnth',\n",
       " 'hr',\n",
       " 'holiday',\n",
       " 'weekday',\n",
       " 'workingday',\n",
       " 'weathersit',\n",
       " 'temp',\n",
       " 'atemp',\n",
       " 'hum',\n",
       " 'windspeed',\n",
       " 'casual',\n",
       " 'registered',\n",
       " 'cnt']"
      ]
     },
     "execution_count": 5,
     "metadata": {},
     "output_type": "execute_result"
    }
   ],
   "source": [
    "import csv\n",
    "bikes_numpy = np.loadtxt(\n",
    "    \"../data/p1ch4/bike-sharing-dataset/hour-fixed.csv\", \n",
    "    dtype=np.float32, \n",
    "    delimiter=\",\", \n",
    "    skiprows=1, \n",
    "    converters={1: lambda x: float(x[8:10])}) # <1>\n",
    "col_list=next(csv.reader(open('../data/p1ch4/bike-sharing-dataset/hour-fixed.csv')))\n",
    "col_list"
   ]
  },
  {
   "cell_type": "code",
   "execution_count": 6,
   "metadata": {},
   "outputs": [
    {
     "data": {
      "text/plain": [
       "tensor([[1.0000e+00, 1.0000e+00,  ..., 1.3000e+01, 1.6000e+01],\n",
       "        [2.0000e+00, 1.0000e+00,  ..., 3.2000e+01, 4.0000e+01],\n",
       "        ...,\n",
       "        [1.7378e+04, 3.1000e+01,  ..., 4.8000e+01, 6.1000e+01],\n",
       "        [1.7379e+04, 3.1000e+01,  ..., 3.7000e+01, 4.9000e+01]])"
      ]
     },
     "execution_count": 6,
     "metadata": {},
     "output_type": "execute_result"
    }
   ],
   "source": [
    "bikes=torch.from_numpy(bikes_numpy)\n",
    "bikes"
   ]
  },
  {
   "cell_type": "code",
   "execution_count": 7,
   "metadata": {},
   "outputs": [
    {
     "data": {
      "text/plain": [
       "(torch.Size([17520, 17]), (17, 1))"
      ]
     },
     "execution_count": 7,
     "metadata": {},
     "output_type": "execute_result"
    }
   ],
   "source": [
    "bikes.shape,bikes.stride()"
   ]
  },
  {
   "cell_type": "code",
   "execution_count": 8,
   "metadata": {},
   "outputs": [
    {
     "data": {
      "text/plain": [
       "(torch.Size([730, 24, 17]), (408, 17, 1))"
      ]
     },
     "execution_count": 8,
     "metadata": {},
     "output_type": "execute_result"
    }
   ],
   "source": [
    "daily_bikes=bikes.view(-1,24,bikes.shape[1]) # -1表示自动计算 \n",
    "daily_bikes.shape,daily_bikes.stride() #17是特征"
   ]
  },
  {
   "cell_type": "code",
   "execution_count": 9,
   "metadata": {},
   "outputs": [
    {
     "data": {
      "text/plain": [
       "(torch.Size([730, 17, 24]), (408, 1, 17))"
      ]
     },
     "execution_count": 9,
     "metadata": {},
     "output_type": "execute_result"
    }
   ],
   "source": [
    "daily_bikes=daily_bikes.transpose(1,2) #交换维度\n",
    "daily_bikes.shape,daily_bikes.stride() #17是特征"
   ]
  },
  {
   "cell_type": "code",
   "execution_count": 10,
   "metadata": {},
   "outputs": [
    {
     "data": {
      "text/plain": [
       "(tensor([1, 1, 1, 1, 1, 2, 1, 1, 1, 1, 1, 1, 1, 2, 2, 2, 2, 2, 3, 3, 2, 2,\n",
       "         2, 2]),\n",
       " torch.Size([24, 17]))"
      ]
     },
     "execution_count": 10,
     "metadata": {},
     "output_type": "execute_result"
    }
   ],
   "source": [
    "first_day=bikes[:24].long() # 24小时的数据\n",
    "weather_onehot=torch.zeros(first_day.shape[0],4) # 假设有4个不同的天气状态\n",
    "first_day[:,9],first_day.shape # 第10列表示天气状态\n"
   ]
  },
  {
   "cell_type": "code",
   "execution_count": 11,
   "metadata": {},
   "outputs": [
    {
     "data": {
      "text/plain": [
       "tensor([[1., 0., 0., 0.],\n",
       "        [1., 0., 0., 0.],\n",
       "        ...,\n",
       "        [0., 1., 0., 0.],\n",
       "        [0., 1., 0., 0.]])"
      ]
     },
     "execution_count": 11,
     "metadata": {},
     "output_type": "execute_result"
    }
   ],
   "source": [
    "weather_onehot.scatter_(\n",
    "    dim=1,\n",
    "    index=first_day[:,9].unsqueeze(1).long()-1,# 在原始张量的第一个维度前插入一个新的维度，使得原始的一维张量变成了一个列向量。-1 操作是为了将原始天气状态的编码从从1开始改为从0开始。\n",
    "    value=1.0\n",
    ")"
   ]
  },
  {
   "cell_type": "code",
   "execution_count": 12,
   "metadata": {},
   "outputs": [],
   "source": [
    "# 对每天的天气状态进行one-hot编码\n",
    "# torch.Size([730, 17, 24]\n",
    "daily_weather_onehot=torch.zeros(daily_bikes.shape[0],4,daily_bikes.shape[2])"
   ]
  },
  {
   "cell_type": "code",
   "execution_count": 13,
   "metadata": {},
   "outputs": [
    {
     "data": {
      "text/plain": [
       "torch.Size([730, 4, 24])"
      ]
     },
     "execution_count": 13,
     "metadata": {},
     "output_type": "execute_result"
    }
   ],
   "source": [
    "daily_weather_onehot.scatter_(\n",
    "    dim=1,\n",
    "    index=daily_bikes[:,9,:].long().unsqueeze(1)-1,\n",
    "    value=1.0)\n",
    "daily_weather_onehot.shape\n"
   ]
  },
  {
   "cell_type": "code",
   "execution_count": 14,
   "metadata": {},
   "outputs": [],
   "source": [
    "daily_bikes=torch.cat((daily_bikes,daily_weather_onehot),dim=1) # 在第二个维度上进行拼接"
   ]
  },
  {
   "cell_type": "code",
   "execution_count": 15,
   "metadata": {},
   "outputs": [
    {
     "data": {
      "text/plain": [
       "torch.Size([730, 21, 24])"
      ]
     },
     "execution_count": 15,
     "metadata": {},
     "output_type": "execute_result"
    }
   ],
   "source": [
    "daily_bikes.shape"
   ]
  },
  {
   "cell_type": "code",
   "execution_count": 17,
   "metadata": {},
   "outputs": [
    {
     "data": {
      "text/plain": [
       "tensor([[[1.0000e+00, 2.0000e+00,  ..., 2.3000e+01, 2.4000e+01],\n",
       "         [1.0000e+00, 1.0000e+00,  ..., 1.0000e+00, 1.0000e+00],\n",
       "         ...,\n",
       "         [0.0000e+00, 0.0000e+00,  ..., 0.0000e+00, 0.0000e+00],\n",
       "         [0.0000e+00, 0.0000e+00,  ..., 0.0000e+00, 0.0000e+00]],\n",
       "\n",
       "        [[2.5000e+01, 2.6000e+01,  ..., 4.6000e+01, 4.7000e+01],\n",
       "         [2.0000e+00, 2.0000e+00,  ..., 2.0000e+00, 2.0000e+00],\n",
       "         ...,\n",
       "         [0.0000e+00, 0.0000e+00,  ..., 0.0000e+00, 0.0000e+00],\n",
       "         [0.0000e+00, 0.0000e+00,  ..., 0.0000e+00, 0.0000e+00]],\n",
       "\n",
       "        ...,\n",
       "\n",
       "        [[1.7332e+04, 1.7333e+04,  ..., 1.7354e+04, 1.7355e+04],\n",
       "         [3.0000e+01, 3.0000e+01,  ..., 3.0000e+01, 3.0000e+01],\n",
       "         ...,\n",
       "         [0.0000e+00, 0.0000e+00,  ..., 0.0000e+00, 0.0000e+00],\n",
       "         [0.0000e+00, 0.0000e+00,  ..., 0.0000e+00, 0.0000e+00]],\n",
       "\n",
       "        [[1.7356e+04, 1.7357e+04,  ..., 1.7378e+04, 1.7379e+04],\n",
       "         [3.1000e+01, 3.1000e+01,  ..., 3.1000e+01, 3.1000e+01],\n",
       "         ...,\n",
       "         [0.0000e+00, 0.0000e+00,  ..., 0.0000e+00, 0.0000e+00],\n",
       "         [0.0000e+00, 0.0000e+00,  ..., 0.0000e+00, 0.0000e+00]]])"
      ]
     },
     "execution_count": 17,
     "metadata": {},
     "output_type": "execute_result"
    }
   ],
   "source": [
    "# 标准化\n",
    "daily_bikes[:,9,:]=(daily_bikes[:,9,:]-1.0)/3.0 # 减去最小值 除以(最大值-最小值)\n",
    "daily_bikes"
   ]
  },
  {
   "cell_type": "code",
   "execution_count": 20,
   "metadata": {},
   "outputs": [],
   "source": [
    "# 确保了值在0-1之间\n",
    "temp=daily_bikes[:,10,:]\n",
    "temp_min=torch.min(temp)\n",
    "temp_max=torch.max(temp)\n",
    "daily_bikes[:,10,:]=((daily_bikes[:,10,:]-temp_min))/(temp_max-temp_min)"
   ]
  },
  {
   "cell_type": "code",
   "execution_count": 21,
   "metadata": {},
   "outputs": [],
   "source": [
    "temp=daily_bikes[:,10,:]\n",
    "daily_bikes[:,10,:]=((daily_bikes[:,10,:]-(torch.mean(temp)))/torch.std(temp))"
   ]
  },
  {
   "cell_type": "code",
   "execution_count": null,
   "metadata": {},
   "outputs": [],
   "source": []
  },
  {
   "cell_type": "code",
   "execution_count": null,
   "metadata": {},
   "outputs": [],
   "source": []
  }
 ],
 "metadata": {
  "kernelspec": {
   "display_name": "dxtorch",
   "language": "python",
   "name": "python3"
  },
  "language_info": {
   "codemirror_mode": {
    "name": "ipython",
    "version": 3
   },
   "file_extension": ".py",
   "mimetype": "text/x-python",
   "name": "python",
   "nbconvert_exporter": "python",
   "pygments_lexer": "ipython3",
   "version": "3.9.18"
  },
  "orig_nbformat": 4
 },
 "nbformat": 4,
 "nbformat_minor": 2
}
